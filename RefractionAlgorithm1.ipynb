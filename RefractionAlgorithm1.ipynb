{
 "cells": [
  {
   "cell_type": "code",
   "execution_count": 54,
   "metadata": {
    "scrolled": true
   },
   "outputs": [
    {
     "data": {
      "text/plain": [
       "5×5 Array{Int64,2}:\n",
       " 290  293  295  293  290\n",
       " 295  298  300  298  295\n",
       " 300  303  305  303  300\n",
       " 305  308  310  308  305\n",
       " 310  310  310  310  310"
      ]
     },
     "execution_count": 54,
     "metadata": {},
     "output_type": "execute_result"
    }
   ],
   "source": [
    "using DataFrames\n",
    "using CSV\n",
    "gradient = CSV.File(\"C:\\\\Users\\\\eyork\\\\Desktop\\\\School\\\\Physics\\\\testcsv.csv\") |> Tables.matrix"
   ]
  },
  {
   "cell_type": "code",
   "execution_count": 55,
   "metadata": {},
   "outputs": [
    {
     "data": {
      "text/plain": [
       "0"
      ]
     },
     "execution_count": 55,
     "metadata": {},
     "output_type": "execute_result"
    }
   ],
   "source": [
    "#INITIAL CONDITIONS\n",
    "position1 = gradient[3,1]\n",
    "temp_initial = 300\n",
    "theta_initial = 0.5*(pi/180)\n",
    "n_initial = 1.000273\n",
    "nodeSpacing = .01 #METERS\n",
    "\n",
    "# Array[Row, Column]"
   ]
  },
  {
   "cell_type": "code",
   "execution_count": 63,
   "metadata": {},
   "outputs": [
    {
     "data": {
      "text/plain": [
       "getNewAngle (generic function with 2 methods)"
      ]
     },
     "execution_count": 63,
     "metadata": {},
     "output_type": "execute_result"
    }
   ],
   "source": [
    "# Calculates refracted angle based on Snell's law\n",
    "function getNewAngle(n0, n1, theta0)\n",
    "    newTheta = asin((n0*(sin(theta0)))/n1)\n",
    "    return newTheta\n",
    "end"
   ]
  },
  {
   "cell_type": "code",
   "execution_count": 65,
   "metadata": {},
   "outputs": [
    {
     "name": "stdout",
     "output_type": "stream",
     "text": [
      "Theta 1 is 0.49999000267536814°\n",
      "Theta 2 is 0.4999914527575676°\n",
      "Theta 3 is 0.4999924036357073°\n",
      "Theta 4 is 0.4999914527575676°\n",
      "Theta 5 is 0.49999000267536814°\n",
      "\n",
      "Total Deflection: 0.025000187749941494m\n"
     ]
    }
   ],
   "source": [
    "oldTheta = theta_initial\n",
    "oldN = n_initial\n",
    "deflection = 0 #METERS\n",
    "i = 1\n",
    "while(i<=5)\n",
    "    newN = 1+(0.000293*(300/gradient[3,i]))\n",
    "    #println(\"Temp: \", gradient[3,i])\n",
    "    #println(\"N: \", newN)\n",
    "    newTheta = getNewAngle(oldN, newN, oldTheta)\n",
    "    println(\"Theta \",i,\" is \", (newTheta*(180/pi)), \"°\")\n",
    "    \n",
    "    deflection += nodeSpacing*(tan(newTheta)*(180/pi))\n",
    "    \n",
    "    oldN = newN\n",
    "    oldTheta = newTheta\n",
    "    i += 1\n",
    "end\n",
    "println()\n",
    "println(\"Total Deflection: \", deflection,\"m\")"
   ]
  }
 ],
 "metadata": {
  "kernelspec": {
   "display_name": "Julia 1.5.4",
   "language": "julia",
   "name": "julia-1.5"
  },
  "language_info": {
   "file_extension": ".jl",
   "mimetype": "application/julia",
   "name": "julia",
   "version": "1.5.4"
  }
 },
 "nbformat": 4,
 "nbformat_minor": 4
}
